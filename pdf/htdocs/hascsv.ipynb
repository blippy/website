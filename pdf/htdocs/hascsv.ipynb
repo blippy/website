{
 "cells": [
  {
   "cell_type": "markdown",
   "metadata": {},
   "source": [
    "#Data analysis in Haskell\n",
    "  \n",
    "In this notebook, we take some data from Sharelock Holmes in CSV format, and filter it by the top decile RS6m (relative strength for 6 months) and Piotroski score &ge; 8. We also display a way of converting from `String`s to `Float`s in the presence of possible parse errors."
   ]
  },
  {
   "cell_type": "markdown",
   "metadata": {},
   "source": [
    "We will need quite a few modules, some of which will need to be installed via `cabal`. These are clearly noted below:"
   ]
  },
  {
   "cell_type": "code",
   "execution_count": 1,
   "metadata": {
    "collapsed": false
   },
   "outputs": [],
   "source": [
    "import Data.Either\n",
    "import Data.List\n",
    "import Data.Maybe\n",
    "import Data.Tuple.Select -- cabal install tuple\n",
    "import Data.Vector (fromList)\n",
    "import GHC.Float\n",
    "import Network.HTTP\n",
    "import Statistics.Quantile -- cabal install statistics\n",
    "import Text.CSV -- cabal install csv\n",
    "import Text.ParserCombinators.Parsec"
   ]
  },
  {
   "cell_type": "markdown",
   "metadata": {},
   "source": [
    "Some data has been prepped, and is available on pastebin. It is in CSV format. The fields are called:\n",
    "* `epic` - a code for the company name\n",
    "* `rs6mb` - relative strength of the share for the last 6 months\n",
    "* `pio` - Piotroski score.\n",
    "\n",
    "Download the data into `rawData`:"
   ]
  },
  {
   "cell_type": "code",
   "execution_count": 2,
   "metadata": {
    "collapsed": false
   },
   "outputs": [
    {
     "data": {
      "text/plain": []
     },
     "metadata": {},
     "output_type": "display_data"
    }
   ],
   "source": [
    "getUrl :: String -> IO String\n",
    "getUrl url = do\n",
    "    resp <- simpleHTTP $ getRequest url\n",
    "    getResponseBody resp\n",
    "    \n",
    "rawData <- getUrl \"http://pastebin.com/raw.php?i=2whDuzjA\""
   ]
  },
  {
   "cell_type": "markdown",
   "metadata": {},
   "source": [
    "Parse the CSV into a matrix. Just return an empty list if we run into conversion difficultes:"
   ]
  },
  {
   "cell_type": "code",
   "execution_count": 3,
   "metadata": {
    "collapsed": false
   },
   "outputs": [],
   "source": [
    "let mat = either (const []) id $ parseCSV \"/tmp/oops.txt\" rawData"
   ]
  },
  {
   "cell_type": "markdown",
   "metadata": {},
   "source": [
    "The first ten records are as follows:"
   ]
  },
  {
   "cell_type": "code",
   "execution_count": 4,
   "metadata": {
    "collapsed": false
   },
   "outputs": [
    {
     "data": {
      "text/plain": [
       "[[\"epic\",\"rs6mb\",\"pio\"],[\"3IN\",\"5.86\",\"5\"],[\"888\",\"6.38\",\"8\"],[\"AA.\",\"16.2\",\"7\"],[\"AAL\",\"-29.11\",\"4\"],[\"ABBY\",\"-4.85\",\"5\"],[\"ABC\",\"12.39\",\"6\"],[\"ABF\",\"3.79\",\"7\"],[\"ACL\",\"-0.6\",\"5\"],[\"ACSO\",\"3.08\",\"4\"]]"
      ]
     },
     "metadata": {},
     "output_type": "display_data"
    }
   ],
   "source": [
    "take 10 mat"
   ]
  },
  {
   "cell_type": "markdown",
   "metadata": {},
   "source": [
    "In general, there may be many columns of data. We will normally only be interested in a small subset. We create a lookup table, with a key corresponding to the header (`epic`, etc.) and values corresponding to the values of that column:"
   ]
  },
  {
   "cell_type": "code",
   "execution_count": 5,
   "metadata": {
    "collapsed": false
   },
   "outputs": [],
   "source": [
    "mkLookup mat = map (\\(h:t) -> (h, t))  $ transpose mat\n",
    "\n",
    "lookups = mkLookup mat\n",
    "getField f = fromJust $ lookup f lookups"
   ]
  },
  {
   "cell_type": "markdown",
   "metadata": {},
   "source": [
    "So far, the values are in the form of `String`s. We will often want them as `Float`s. Sometimes, the string is empty, implying missing data. So the conversion won't always work. Let us return a `Just Float` if we can convert the `String`, or `Nothing` if the conversion fails. **This is a robust method for performing conversion between strings and floats**:"
   ]
  },
  {
   "cell_type": "code",
   "execution_count": 6,
   "metadata": {
    "collapsed": false
   },
   "outputs": [],
   "source": [
    "readFloat :: String -> Maybe Float\n",
    "readFloat str = \n",
    "    case reads str :: [(Float, String)] of\n",
    "        [(x, \"\")] -> Just x\n",
    "        _ -> Nothing"
   ]
  },
  {
   "cell_type": "markdown",
   "metadata": {},
   "source": [
    "Whilst `getField` returned a list of strings, it would be convenient is we could also return a list of floats (remember, that conversion may not always be possible):"
   ]
  },
  {
   "cell_type": "code",
   "execution_count": 7,
   "metadata": {
    "collapsed": false
   },
   "outputs": [],
   "source": [
    "getFloats :: Field -> [Maybe Float]\n",
    "getFloats f = map readFloat $ getField f"
   ]
  },
  {
   "cell_type": "markdown",
   "metadata": {},
   "source": [
    "We define 3 values, `epics`, `rs6s`, `pios`, being lists of either strings (in the first case), or `Maybe Float`s in the other cases:"
   ]
  },
  {
   "cell_type": "code",
   "execution_count": 8,
   "metadata": {
    "collapsed": false
   },
   "outputs": [],
   "source": [
    "epics = getField \"epic\"\n",
    "rs6s = getFloats \"rs6mb\"\n",
    "pios = getFloats \"pio\""
   ]
  },
  {
   "cell_type": "markdown",
   "metadata": {},
   "source": [
    "Let's print out the first 10 items in the data. You will notice that for company `ADM` a pio wasn't available:"
   ]
  },
  {
   "cell_type": "code",
   "execution_count": 9,
   "metadata": {
    "collapsed": false
   },
   "outputs": [
    {
     "data": {
      "text/plain": [
       "[(\"3IN\",Just 5.86,Just 5.0),(\"888\",Just 6.38,Just 8.0),(\"AA.\",Just 16.2,Just 7.0),(\"AAL\",Just (-29.11),Just 4.0),(\"ABBY\",Just (-4.85),Just 5.0),(\"ABC\",Just 12.39,Just 6.0),(\"ABF\",Just 3.79,Just 7.0),(\"ACL\",Just (-0.6),Just 5.0),(\"ACSO\",Just 3.08,Just 4.0),(\"ADM\",Just 15.75,Nothing)]"
      ]
     },
     "metadata": {},
     "output_type": "display_data"
    }
   ],
   "source": [
    "take 10 $ zip3 epics rs6s pios"
   ]
  },
  {
   "cell_type": "markdown",
   "metadata": {},
   "source": [
    "We may either want to keep, or discard data for which there is `Nothing`. In our case, let us throw out any records that we cannot process:"
   ]
  },
  {
   "cell_type": "code",
   "execution_count": 10,
   "metadata": {
    "collapsed": false
   },
   "outputs": [],
   "source": [
    "valids = filter (\\(e,r,p) -> isJust r && isJust p) $zip3 epics rs6s pios"
   ]
  },
  {
   "cell_type": "markdown",
   "metadata": {},
   "source": [
    "All of the data in `valids` is meaningful, so we should strip out the `Just`s, to give us actual floats:"
   ]
  },
  {
   "cell_type": "code",
   "execution_count": 11,
   "metadata": {
    "collapsed": false
   },
   "outputs": [],
   "source": [
    "erps = map (\\(e, r, p) -> (e, fromJust r, fromJust p)) valids"
   ]
  },
  {
   "cell_type": "markdown",
   "metadata": {},
   "source": [
    "`erps` means a list of tuples of `(epic, rs6s, pio)`. Here are its first 10 values:"
   ]
  },
  {
   "cell_type": "code",
   "execution_count": 12,
   "metadata": {
    "collapsed": false
   },
   "outputs": [
    {
     "data": {
      "text/plain": [
       "[(\"3IN\",5.86,5.0),(\"888\",6.38,8.0),(\"AA.\",16.2,7.0),(\"AAL\",-29.11,4.0),(\"ABBY\",-4.85,5.0),(\"ABC\",12.39,6.0),(\"ABF\",3.79,7.0),(\"ACL\",-0.6,5.0),(\"ACSO\",3.08,4.0),(\"ADN\",14.4,4.0)]"
      ]
     },
     "metadata": {},
     "output_type": "display_data"
    }
   ],
   "source": [
    "take 10 erps"
   ]
  },
  {
   "cell_type": "markdown",
   "metadata": {},
   "source": [
    "The 90th percentile of relative strength over the last 6 months is as follows:"
   ]
  },
  {
   "cell_type": "code",
   "execution_count": 13,
   "metadata": {
    "collapsed": false
   },
   "outputs": [
    {
     "data": {
      "text/plain": [
       "29.592001"
      ]
     },
     "metadata": {},
     "output_type": "display_data"
    }
   ],
   "source": [
    "rvec = fromList $ Prelude.map (float2Double . sel2) erps\n",
    "r90 = double2Float $ weightedAvg 9 10 rvec\n",
    "r90"
   ]
  },
  {
   "cell_type": "markdown",
   "metadata": {},
   "source": [
    "In other words, 1 in 10 shares had an RS6m of at least 29.6%.\n",
    "\n",
    "We are interested in filtering for shares where the relative strength is in the top decile, and the Piotroski score is at least 8:"
   ]
  },
  {
   "cell_type": "code",
   "execution_count": 14,
   "metadata": {
    "collapsed": false
   },
   "outputs": [],
   "source": [
    "passes = filter (\\(e,r,p) -> r >= r90 && p >= 8.0) erps"
   ]
  },
  {
   "cell_type": "code",
   "execution_count": 15,
   "metadata": {
    "collapsed": false
   },
   "outputs": [
    {
     "data": {
      "text/plain": [
       "[(\"AERL\",56.67,8.0),(\"DNO\",51.68,9.0),(\"GRG\",66.27,8.0),(\"IAG\",62.3,8.0),(\"JLF\",30.68,8.0),(\"MSLH\",32.55,8.0),(\"PETS\",43.29,8.0),(\"PLUS\",56.24,9.0),(\"RMV\",38.22,8.0),(\"SYNT\",43.83,8.0),(\"SYR\",52.83,8.0),(\"TW.\",30.92,8.0)]"
      ]
     },
     "metadata": {},
     "output_type": "display_data"
    }
   ],
   "source": [
    "passes"
   ]
  },
  {
   "cell_type": "markdown",
   "metadata": {},
   "source": [
    "This completes our analysis."
   ]
  },
  {
   "cell_type": "markdown",
   "metadata": {},
   "source": [
    "## About this document\n",
    "\n",
    "    Author:  Mark Carter\n",
    "    Created: 07-Apr-2015"
   ]
  },
  {
   "cell_type": "code",
   "execution_count": null,
   "metadata": {
    "collapsed": true
   },
   "outputs": [],
   "source": []
  }
 ],
 "metadata": {
  "kernelspec": {
   "display_name": "Haskell",
   "language": "haskell",
   "name": "haskell"
  }
 },
 "nbformat": 4,
 "nbformat_minor": 0
}
