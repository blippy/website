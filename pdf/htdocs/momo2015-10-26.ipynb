{
 "cells": [
  {
   "cell_type": "markdown",
   "metadata": {},
   "source": [
    "# Momentum 26-Oct-2015\n",
    "\n",
    "In a previous workbook (http://pdf.markcarter.me.uk/momo2014-11-26a.html), we asked: **what is the expected of investing in each decile of the relative strength of shares over 6 months over the subsequent 6 months?**\n",
    "\n",
    "We saw that it paid to invest in the best-performing decile, and avoid the worst-performing one. We repeat the analysis for data collect near 26-Oct-2015, **and we come to the same conclusion**."
   ]
  },
  {
   "cell_type": "code",
   "execution_count": 1,
   "metadata": {
    "collapsed": false
   },
   "outputs": [],
   "source": [
    "%matplotlib inline\n",
    "import matplotlib.mlab as mlab\n",
    "import matplotlib.pyplot as plt\n",
    "import pylab\n",
    "import numpy as np\n",
    "import pandas as pd"
   ]
  },
  {
   "cell_type": "code",
   "execution_count": 2,
   "metadata": {
    "collapsed": false
   },
   "outputs": [],
   "source": [
    "import mython\n",
    "import mython.sharelock\n",
    "import mython.quant as quant"
   ]
  },
  {
   "cell_type": "markdown",
   "metadata": {
    "collapsed": true
   },
   "source": [
    "## Prep the data\n",
    "\n",
    "You won't have to do this, normally, it is just a data preparation stage. There are two ways of doing it:\n",
    "\n",
    "*Method 1*"
   ]
  },
  {
   "cell_type": "code",
   "execution_count": 3,
   "metadata": {
    "collapsed": false
   },
   "outputs": [
    {
     "name": "stdout",
     "output_type": "stream",
     "text": [
      "Namespace(momo='momo')\n",
      "Finished\n"
     ]
    }
   ],
   "source": [
    "%%bash\n",
    "mython sharelock momo"
   ]
  },
  {
   "cell_type": "markdown",
   "metadata": {},
   "source": [
    "*Method 2*"
   ]
  },
  {
   "cell_type": "code",
   "execution_count": 4,
   "metadata": {
    "collapsed": false
   },
   "outputs": [],
   "source": [
    "mython.sharelock.momo()"
   ]
  },
  {
   "cell_type": "markdown",
   "metadata": {},
   "source": [
    "The data would then have to be uploaded to pastebin: \n",
    "\n",
    "http://pastebin.com/raw.php?i=xp6ZfCkv"
   ]
  },
  {
   "cell_type": "markdown",
   "metadata": {
    "collapsed": false
   },
   "source": [
    "## Thresholds for deciles\n",
    "\n",
    "Load the full dataset, and build a dataframe of just the data we need:"
   ]
  },
  {
   "cell_type": "code",
   "execution_count": 5,
   "metadata": {
    "collapsed": false
   },
   "outputs": [
    {
     "data": {
      "text/html": [
       "<div>\n",
       "<table border=\"1\" class=\"dataframe\">\n",
       "  <thead>\n",
       "    <tr style=\"text-align: right;\">\n",
       "      <th></th>\n",
       "      <th>epic</th>\n",
       "      <th>rs6mb</th>\n",
       "      <th>rs1y</th>\n",
       "      <th>rs6ma</th>\n",
       "    </tr>\n",
       "  </thead>\n",
       "  <tbody>\n",
       "    <tr>\n",
       "      <th>0</th>\n",
       "      <td>3IN</td>\n",
       "      <td>17.72</td>\n",
       "      <td>18.50</td>\n",
       "      <td>0.662589</td>\n",
       "    </tr>\n",
       "    <tr>\n",
       "      <th>1</th>\n",
       "      <td>888</td>\n",
       "      <td>20.21</td>\n",
       "      <td>24.03</td>\n",
       "      <td>3.177772</td>\n",
       "    </tr>\n",
       "    <tr>\n",
       "      <th>2</th>\n",
       "      <td>AA.</td>\n",
       "      <td>-28.56</td>\n",
       "      <td>-15.07</td>\n",
       "      <td>18.882979</td>\n",
       "    </tr>\n",
       "    <tr>\n",
       "      <th>3</th>\n",
       "      <td>AAL</td>\n",
       "      <td>-35.11</td>\n",
       "      <td>-55.84</td>\n",
       "      <td>-31.946371</td>\n",
       "    </tr>\n",
       "    <tr>\n",
       "      <th>4</th>\n",
       "      <td>ABBY</td>\n",
       "      <td>36.05</td>\n",
       "      <td>26.04</td>\n",
       "      <td>-7.357589</td>\n",
       "    </tr>\n",
       "  </tbody>\n",
       "</table>\n",
       "</div>"
      ],
      "text/plain": [
       "   epic  rs6mb   rs1y      rs6ma\n",
       "0   3IN  17.72  18.50   0.662589\n",
       "1   888  20.21  24.03   3.177772\n",
       "2   AA. -28.56 -15.07  18.882979\n",
       "3   AAL -35.11 -55.84 -31.946371\n",
       "4  ABBY  36.05  26.04  -7.357589"
      ]
     },
     "execution_count": 5,
     "metadata": {},
     "output_type": "execute_result"
    }
   ],
   "source": [
    "inp = pd.io.parsers.read_csv(\"http://pastebin.com/raw.php?i=xp6ZfCkv\")\n",
    "df = inp[['epic', 'rs6mb', 'rs1y']].copy()\n",
    "df['rs6ma'] = (df.rs1y/100.0 + 1.0)/(df.rs6mb/100.0 + 1.0)*100.0 - 100.0\n",
    "df.head(5)"
   ]
  },
  {
   "cell_type": "markdown",
   "metadata": {
    "collapsed": true
   },
   "source": [
    "Here are the decile ranges for the first 6 months of the loaded data:"
   ]
  },
  {
   "cell_type": "code",
   "execution_count": 6,
   "metadata": {
    "collapsed": false
   },
   "outputs": [
    {
     "data": {
      "text/plain": [
       "0.0    -57.507175\n",
       "0.1    -22.749957\n",
       "0.2    -12.785435\n",
       "0.3     -7.433671\n",
       "0.4     -2.383119\n",
       "0.5      1.964370\n",
       "0.6      6.739675\n",
       "0.7     12.038106\n",
       "0.8     18.667706\n",
       "0.9     28.594087\n",
       "1.0    173.164025\n",
       "Name: rs6ma, dtype: float64"
      ]
     },
     "execution_count": 6,
     "metadata": {},
     "output_type": "execute_result"
    }
   ],
   "source": [
    "quant.quantiles(df.rs6ma, 10)"
   ]
  },
  {
   "cell_type": "markdown",
   "metadata": {},
   "source": [
    "As you can see, the worst-performing share had an RS (relative strength) of -57.5%, whilst the best was 173.2%. 10% of the shares had a RS of at least 28.6%"
   ]
  },
  {
   "cell_type": "markdown",
   "metadata": {
    "collapsed": false
   },
   "source": [
    "## Subsequent performance\n",
    "\n",
    "Let's see how the companies for the various buckets in the first 6 months performed over the subsequent 6 months:"
   ]
  },
  {
   "cell_type": "code",
   "execution_count": 7,
   "metadata": {
    "collapsed": false
   },
   "outputs": [
    {
     "data": {
      "text/plain": [
       "tile\n",
       "0    -1.691194\n",
       "1     6.492576\n",
       "2    12.801970\n",
       "3    14.193636\n",
       "4    13.264545\n",
       "5    13.965000\n",
       "6     9.406818\n",
       "7    14.974091\n",
       "8    10.214091\n",
       "9    17.115970\n",
       "Name: rs6mb, dtype: float64"
      ]
     },
     "execution_count": 7,
     "metadata": {},
     "output_type": "execute_result"
    }
   ],
   "source": [
    "def agg(df, n):\n",
    "    df['tile'] = pd.qcut(df['rs6ma'], n, labels = range(n))\n",
    "    res = df.groupby('tile')['rs6mb'].mean()\n",
    "    return res\n",
    "\n",
    "agg(df, 10)"
   ]
  },
  {
   "cell_type": "markdown",
   "metadata": {},
   "source": [
    "The table above gives the *expected* subsequent 6 month return.\n",
    "\n",
    "You may be asking yourself how it is possible for most of the deciles are positive. Surely there should be some cancelling out? The answer is that the relative strengths are relative to the Footsie, so if the larger universe consistently outperforms the Footsie, then you would expect the deciles to do so, too."
   ]
  },
  {
   "cell_type": "markdown",
   "metadata": {},
   "source": [
    "## Conclusion\n",
    "\n",
    "The conclusion obtained for the momentum experiment of 26-Nov-2014 still hold true: the best-performing decile for the first 6 months went on to be the best performing decile for the next 6 months. The worst-performing decile went on to perform the worst.\n",
    "\n",
    "**Momentum effects are strong**."
   ]
  },
  {
   "cell_type": "markdown",
   "metadata": {},
   "source": [
    "## About this document\n",
    "\n",
    "    Author:  Mark Carter\n",
    "    Created: 26-Oct-2015\n",
    "\n",
    "The dataset was obtained at about this document creation date."
   ]
  },
  {
   "cell_type": "code",
   "execution_count": null,
   "metadata": {
    "collapsed": true
   },
   "outputs": [],
   "source": []
  }
 ],
 "metadata": {
  "kernelspec": {
   "display_name": "Python 3",
   "language": "python",
   "name": "python3"
  },
  "language_info": {
   "codemirror_mode": {
    "name": "ipython",
    "version": 3
   },
   "file_extension": ".py",
   "mimetype": "text/x-python",
   "name": "python",
   "nbconvert_exporter": "python",
   "pygments_lexer": "ipython3",
   "version": "3.5.0"
  }
 },
 "nbformat": 4,
 "nbformat_minor": 0
}
