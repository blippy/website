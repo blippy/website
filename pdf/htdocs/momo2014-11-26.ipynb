{
 "metadata": {
  "name": "",
  "signature": "sha256:78f0798bd69e3d33820563464387c48a7e81ec1521101c72279eb08d03fcd967"
 },
 "nbformat": 3,
 "nbformat_minor": 0,
 "worksheets": [
  {
   "cells": [
    {
     "cell_type": "heading",
     "level": 1,
     "metadata": {},
     "source": [
      "Momentum experiment 26-Nov-2014"
     ]
    },
    {
     "cell_type": "markdown",
     "metadata": {},
     "source": [
      "In this article, we pose the question: is RS6m (6 month relative) strenght a good predictor for the subsequent 6 months? The general conclusion is \"yes\", and we give a fuller explanation below."
     ]
    },
    {
     "cell_type": "heading",
     "level": 2,
     "metadata": {},
     "source": [
      "Running the model yourself"
     ]
    },
    {
     "cell_type": "markdown",
     "metadata": {},
     "source": [
      "If anyone is interested in running these calculations themselves, then you will need IPython3 running together with various scientific packages. On Linux, you can install the necessary packages fairly readily. Windows users would be advised to obtain all the packages \"in a oner\" by downloading [Anaconda](http://continuum.io/downloads). If you are particularly interested in exploring this article further, then you can email me at `devnull at markcarter me uk`, and I will try to create more complete instructions."
     ]
    },
    {
     "cell_type": "markdown",
     "metadata": {},
     "source": [
      "Once you have IPython3 started, you will need to perform some standard imports:"
     ]
    },
    {
     "cell_type": "code",
     "collapsed": false,
     "input": [
      "%matplotlib inline\n",
      "import matplotlib.mlab as mlab\n",
      "import matplotlib.pyplot as plt\n",
      "import pylab\n",
      "import numpy as np\n",
      "import pandas as pd"
     ],
     "language": "python",
     "metadata": {},
     "outputs": [],
     "prompt_number": 1
    },
    {
     "cell_type": "markdown",
     "metadata": {},
     "source": [
      "Data is not generally available, but I have been able to get hold of some. Some preprocessing is required on my part:"
     ]
    },
    {
     "cell_type": "code",
     "collapsed": false,
     "input": [
      "%%bash\n",
      "DIR=~/Downloads\n",
      "sh-csv < $DIR/StatsList.csv > $DIR/fixed.csv\n",
      "csvtool namedcol epic,mkt,rs6mb,rs1y,rs5y $DIR/fixed.csv > $DIR/paste.csv"
     ],
     "language": "python",
     "metadata": {},
     "outputs": [],
     "prompt_number": 2
    },
    {
     "cell_type": "markdown",
     "metadata": {},
     "source": [
      "You will not be able to run the above commands yourself. I have made the processed data available at http://pastebin.com/raw.php?i=JWBf8LzF. This is loaded into a dataframe as follows:"
     ]
    },
    {
     "cell_type": "code",
     "collapsed": false,
     "input": [
      "inp = pd.io.parsers.read_csv(\"http://pastebin.com/raw.php?i=JWBf8LzF\")\n",
      "print(\"The first few rows of the imported data:\")\n",
      "print(inp.head())\n",
      "print(\"Some simple descriptive statistics of the data:\")\n",
      "print(inp.describe())"
     ],
     "language": "python",
     "metadata": {},
     "outputs": [
      {
       "output_type": "stream",
       "stream": "stdout",
       "text": [
        "The first few rows of the imported data:\n",
        "   epic       mkt  rs6mb   rs1y   rs5y\n",
        "0   3IN   1322.84  10.00  14.31  17.29\n",
        "1   888    484.86   9.01 -15.17   0.03\n",
        "2   AA.   1941.45    NaN    NaN    NaN\n",
        "3   AAL  18564.58 -14.44  -3.60 -60.58\n",
        "4  ABBY    185.13  -1.87   0.73  67.17\n",
        "Some simple descriptive statistics of the data:\n",
        "                 mkt       rs6mb        rs1y         rs5y\n",
        "count     682.000000  665.000000  642.000000   567.000000\n",
        "mean     3540.309516   -0.182782    5.037695    78.360053\n",
        "std     10758.853155   24.098168   37.449697   152.465873\n",
        "min       100.050000  -73.580000  -79.600000   -93.880000\n",
        "25%       219.112500  -11.590000  -13.160000    -7.795000\n",
        "50%       597.470000   -0.110000    1.675000    41.360000\n",
        "75%      1985.745000   10.040000   18.672500   113.680000\n",
        "max    122129.400000  248.860000  377.180000  1185.910000\n"
       ]
      }
     ],
     "prompt_number": 3
    },
    {
     "cell_type": "heading",
     "level": 2,
     "metadata": {},
     "source": [
      "Relative strengths"
     ]
    },
    {
     "cell_type": "markdown",
     "metadata": {},
     "source": [
      "The data columns for a given company are as follows:\n",
      "* mkt - the market value\n",
      "* rs6mb - RS6m - relative strength for the last 6 months\n",
      "* rs1y - relative strength for the last year\n",
      "* rs5y - relative strength for last 5 years\n",
      "\n",
      "Note that RS's are relative to the Footsie, rather than the market as a whole.\n",
      "\n",
      "We want to compute to compute rs6ma - the relative strength in the period 6-12 months ago. Given rs6mb and rs1y, it is easily calculated:"
     ]
    },
    {
     "cell_type": "code",
     "collapsed": false,
     "input": [
      "def rs6ma(rs6mb, rs1y):\n",
      "    return  (rs1y/100.0 + 1.0)/(rs6mb/100.0 + 1.0)*100.0 - 100.0\n",
      "\n",
      "def setup_data(raw):\n",
      "    data = raw.copy()\n",
      "    data = data.dropna(subset=[\"rs6mb\",\"rs1y\"])\n",
      "    data['rs6ma'] = data.apply(lambda x: rs6ma(x['rs6mb'], x['rs1y']), axis=1)\n",
      "    data = data[sorted(data.columns)]\n",
      "    return data\n",
      "    \n",
      "data = setup_data(inp)\n",
      "data.head()"
     ],
     "language": "python",
     "metadata": {},
     "outputs": [
      {
       "html": [
        "<div style=\"max-height:1000px;max-width:1500px;overflow:auto;\">\n",
        "<table border=\"1\" class=\"dataframe\">\n",
        "  <thead>\n",
        "    <tr style=\"text-align: right;\">\n",
        "      <th></th>\n",
        "      <th>epic</th>\n",
        "      <th>mkt</th>\n",
        "      <th>rs1y</th>\n",
        "      <th>rs5y</th>\n",
        "      <th>rs6ma</th>\n",
        "      <th>rs6mb</th>\n",
        "    </tr>\n",
        "  </thead>\n",
        "  <tbody>\n",
        "    <tr>\n",
        "      <th>0</th>\n",
        "      <td>  3IN</td>\n",
        "      <td>  1322.84</td>\n",
        "      <td> 14.31</td>\n",
        "      <td> 17.29</td>\n",
        "      <td>  3.918182</td>\n",
        "      <td> 10.00</td>\n",
        "    </tr>\n",
        "    <tr>\n",
        "      <th>1</th>\n",
        "      <td>  888</td>\n",
        "      <td>   484.86</td>\n",
        "      <td>-15.17</td>\n",
        "      <td>  0.03</td>\n",
        "      <td>-22.181451</td>\n",
        "      <td>  9.01</td>\n",
        "    </tr>\n",
        "    <tr>\n",
        "      <th>3</th>\n",
        "      <td>  AAL</td>\n",
        "      <td> 18564.58</td>\n",
        "      <td> -3.60</td>\n",
        "      <td>-60.58</td>\n",
        "      <td> 12.669472</td>\n",
        "      <td>-14.44</td>\n",
        "    </tr>\n",
        "    <tr>\n",
        "      <th>4</th>\n",
        "      <td> ABBY</td>\n",
        "      <td>   185.13</td>\n",
        "      <td>  0.73</td>\n",
        "      <td> 67.17</td>\n",
        "      <td>  2.649547</td>\n",
        "      <td> -1.87</td>\n",
        "    </tr>\n",
        "    <tr>\n",
        "      <th>5</th>\n",
        "      <td>  ABC</td>\n",
        "      <td>   846.97</td>\n",
        "      <td>-10.13</td>\n",
        "      <td> 81.83</td>\n",
        "      <td>-22.499138</td>\n",
        "      <td> 15.96</td>\n",
        "    </tr>\n",
        "  </tbody>\n",
        "</table>\n",
        "</div>"
       ],
       "metadata": {},
       "output_type": "pyout",
       "prompt_number": 4,
       "text": [
        "   epic       mkt   rs1y   rs5y      rs6ma  rs6mb\n",
        "0   3IN   1322.84  14.31  17.29   3.918182  10.00\n",
        "1   888    484.86 -15.17   0.03 -22.181451   9.01\n",
        "3   AAL  18564.58  -3.60 -60.58  12.669472 -14.44\n",
        "4  ABBY    185.13   0.73  67.17   2.649547  -1.87\n",
        "5   ABC    846.97 -10.13  81.83 -22.499138  15.96"
       ]
      }
     ],
     "prompt_number": 4
    },
    {
     "cell_type": "markdown",
     "metadata": {},
     "source": [
      "Let us look at how the relative strengths are distributed.\n",
      "\n",
      "> **TODO**: investigate skew:\n",
      "* data.skew() measures skew, but I have yet to understand how to measure it. \n",
      "* $\\chi^2$ is a test for distribution, which I also need to understand.\n",
      "\n",
      "Here is a simple histogram plotting function:"
     ]
    },
    {
     "cell_type": "code",
     "collapsed": false,
     "input": [
      "def hist(key, title):\n",
      "    global data\n",
      "    pylab.subplot(111, title = title)\n",
      "    data[key].hist(bins = 100)"
     ],
     "language": "python",
     "metadata": {},
     "outputs": [],
     "prompt_number": 5
    },
    {
     "cell_type": "markdown",
     "metadata": {},
     "source": [
      "from which we can readily plot histograms:"
     ]
    },
    {
     "cell_type": "code",
     "collapsed": false,
     "input": [
      "hist('rs6ma', \"Relative strength 6-12m\")"
     ],
     "language": "python",
     "metadata": {},
     "outputs": [
      {
       "metadata": {},
       "output_type": "display_data",
       "png": "[encoded data removed]",
       "text": [
        "<matplotlib.figure.Figure at 0x7f7826f5ef98>"
       ]
      }
     ],
     "prompt_number": 6
    },
    {
     "cell_type": "code",
     "collapsed": false,
     "input": [
      "hist('rs6mb', \"Relative strength 6 months\")"
     ],
     "language": "python",
     "metadata": {},
     "outputs": [
      {
       "metadata": {},
       "output_type": "display_data",
       "png": "[encoded data removed]",
       "text": [
        "<matplotlib.figure.Figure at 0x7f782693a5c0>"
       ]
      }
     ],
     "prompt_number": 7
    },
    {
     "cell_type": "code",
     "collapsed": false,
     "input": [
      "hist('rs1y', \"Relative strength 1 year\")     "
     ],
     "language": "python",
     "metadata": {},
     "outputs": [
      {
       "metadata": {},
       "output_type": "display_data",
       "png": "[encoded data removed]",
       "text": [
        "<matplotlib.figure.Figure at 0x7f7826709080>"
       ]
      }
     ],
     "prompt_number": 8
    },
    {
     "cell_type": "code",
     "collapsed": false,
     "input": [
      "hist('rs5y', \"Relative strength 5 years\")"
     ],
     "language": "python",
     "metadata": {},
     "outputs": [
      {
       "metadata": {},
       "output_type": "display_data",
       "png": "[encoded data removed]",
       "text": [
        "<matplotlib.figure.Figure at 0x7f78267065c0>"
       ]
      }
     ],
     "prompt_number": 9
    },
    {
     "cell_type": "markdown",
     "metadata": {},
     "source": [
      "It is clear that RS5y is skewed. Shares can lose at most 100%, whilst their upside is unlimited. Note that the data only shows results for companies that are listed currently, so there will be survivorship bias."
     ]
    },
    {
     "cell_type": "markdown",
     "metadata": {},
     "source": [
      "Let's see if we can spot a correlation between rs6ma and rs6mb:"
     ]
    },
    {
     "cell_type": "code",
     "collapsed": false,
     "input": [
      "data.plot(kind = 'scatter', x ='rs6ma', y = 'rs6mb' )"
     ],
     "language": "python",
     "metadata": {},
     "outputs": [
      {
       "metadata": {},
       "output_type": "pyout",
       "prompt_number": 10,
       "text": [
        "<matplotlib.axes.AxesSubplot at 0x7f7826a7de10>"
       ]
      },
      {
       "metadata": {},
       "output_type": "display_data",
       "png": "[encoded data removed]",
       "text": [
        "<matplotlib.figure.Figure at 0x7f78267d5470>"
       ]
      }
     ],
     "prompt_number": 10
    },
    {
     "cell_type": "markdown",
     "metadata": {},
     "source": [
      "It seems that there *might* be a positive correlation between the two, although the correlation looks somewhat dubious. To get a better view, we should look at the Markov transition matrices under varying assumptions. This is the subject of the next section."
     ]
    },
    {
     "cell_type": "heading",
     "level": 2,
     "metadata": {},
     "source": [
      "Markov chain transition matrix"
     ]
    },
    {
     "cell_type": "markdown",
     "metadata": {},
     "source": [
      "Let us remind ourselves of our objective: **to see if rs6ma (known) is a predictor for rs6mb**.\n",
      "\n",
      "Markov chains are described in a [Wikipedia article](http://en.wikipedia.org/wiki/Markov_chain). Here, we divide the data into quintiles, with rows the rows representing rs6ma, and the columns rs6mb. We can then see the probabilities associated with the transitions.\n",
      "\n",
      "Here is the code that allows us to do that:"
     ]
    },
    {
     "cell_type": "code",
     "collapsed": false,
     "input": [
      "def quantile(column, quantile=5):\n",
      "    \"low q implies high value\"\n",
      "    q = pd.qcut(column, quantile)\n",
      "    return len(q.levels)- q.labels\n",
      "\n",
      "def markov(data, ntiles):\n",
      "    #print(\"Num quantiles =\", ntiles)\n",
      "    aug = data.copy()\n",
      "    aug['a'] = quantile(data['rs6ma'], ntiles)\n",
      "    aug['b'] = quantile(data['rs6mb'], ntiles)\n",
      "    #qtiles = quantiles(data, ntiles)\n",
      "    m = np.zeros((ntiles, ntiles))\n",
      "    for i, (qa, qb) in enumerate(zip(aug['a'].values, aug['b'].values)):\n",
      "        m[qa-1][qb-1] += 1 \n",
      "    #print(\"Raw count:\")\n",
      "    #print(m)\n",
      "    \n",
      "    # normalise across rows\n",
      "    row_sums = m.sum(axis=1)\n",
      "    normed = m / row_sums[:, np.newaxis]\n",
      "    \n",
      "    # express in percentage terms\n",
      "    f = np.vectorize(lambda x: round(x * 100, 1))\n",
      "    nice = f(normed)\n",
      "    print(\"Transition matrix (Q1 is top left)\")\n",
      "    print(nice)\n",
      "    return aug, nice"
     ],
     "language": "python",
     "metadata": {},
     "outputs": [],
     "prompt_number": 11
    },
    {
     "cell_type": "markdown",
     "metadata": {},
     "source": [
      "The simplest form is:"
     ]
    },
    {
     "cell_type": "code",
     "collapsed": false,
     "input": [
      "markov(data, 2) ;"
     ],
     "language": "python",
     "metadata": {},
     "outputs": [
      {
       "output_type": "stream",
       "stream": "stdout",
       "text": [
        "Transition matrix (Q1 is top left)\n",
        "[[ 52.  48.]\n",
        " [ 48.  52.]]\n"
       ]
      }
     ],
     "prompt_number": 12
    },
    {
     "cell_type": "markdown",
     "metadata": {},
     "source": [
      "It shows that if you are in the top half of RS for 6 months, then you have a 52% chance of beating the market in the next 6 months. That advantage may seem slim, but a more encouraging pattern emerges if we split the data into quintiles:"
     ]
    },
    {
     "cell_type": "code",
     "collapsed": false,
     "input": [
      "aug5, mark5 = markov(data, 5)"
     ],
     "language": "python",
     "metadata": {},
     "outputs": [
      {
       "output_type": "stream",
       "stream": "stdout",
       "text": [
        "Transition matrix (Q1 is top left)\n",
        "[[ 26.4  19.4  18.6  17.8  17.8]\n",
        " [ 15.6  24.2  23.4  23.4  13.3]\n",
        " [ 19.5  21.9  20.3  20.3  18. ]\n",
        " [ 21.1  17.2  22.7  18.8  20.3]\n",
        " [ 17.8  17.1  14.7  19.4  31. ]]\n"
       ]
      }
     ],
     "prompt_number": 13
    },
    {
     "cell_type": "markdown",
     "metadata": {},
     "source": [
      "You can see that if you invested in the top quintile of relative strength, then you stand a disproportionate change of subsequently performing in the next top quintile (26.4%). Conversely, if you invested in the worst companies according to relative strength, then there is a 31% chance that you will underperform severly in the next 6 months.\n",
      "\n",
      "Let's look at deciles:"
     ]
    },
    {
     "cell_type": "code",
     "collapsed": false,
     "input": [
      "aug10, mark10 = markov(data, 10)"
     ],
     "language": "python",
     "metadata": {},
     "outputs": [
      {
       "output_type": "stream",
       "stream": "stdout",
       "text": [
        "Transition matrix (Q1 is top left)\n",
        "[[ 24.6   7.7   6.2   9.2   6.2   9.2  12.3   6.2   9.2   9.2]\n",
        " [  9.4  10.9  12.5  10.9  15.6   6.2   7.8   9.4  12.5   4.7]\n",
        " [  6.2  10.9   9.4  14.1  12.5  15.6   9.4   7.8  10.9   3.1]\n",
        " [  7.8   6.2  18.8   6.2   7.8  10.9   9.4  20.3   3.1   9.4]\n",
        " [  4.7  12.5  10.9  10.9   7.8   9.4  10.9   7.8  15.6   9.4]\n",
        " [  7.8  14.1   4.7  17.2  14.1   9.4   9.4  12.5   1.6   9.4]\n",
        " [ 12.5   9.4   9.4   4.7  18.8   9.4  10.9   7.8  12.5   4.7]\n",
        " [  9.4  10.9   7.8  12.5  10.9   6.2   9.4   9.4  14.1   9.4]\n",
        " [  9.4   9.4  12.5   9.4   4.7  15.6   7.8   7.8   9.4  14.1]\n",
        " [  9.2   7.7   7.7   4.6   1.5   7.7  12.3  10.8  10.8  27.7]]\n"
       ]
      }
     ],
     "prompt_number": 14
    },
    {
     "cell_type": "markdown",
     "metadata": {},
     "source": [
      "**You can see that investing in the top decile gives you good odds of performing well, whilst investing in the bottom decile gives you a high probability of performing badly. Investing in other deciles gives results that are more mixed.**\n",
      "\n",
      "We can computer the probabilities of outperforming the market given an initial decile:"
     ]
    },
    {
     "cell_type": "code",
     "collapsed": false,
     "input": [
      "print(\"Probability of outperforming:\")\n",
      "for i, row in enumerate(mark10):\n",
      "    print(\"Decile \", i+1, \":\", sum(row[0:5]))"
     ],
     "language": "python",
     "metadata": {},
     "outputs": [
      {
       "output_type": "stream",
       "stream": "stdout",
       "text": [
        "Probability of outperforming:\n",
        "Decile  1 : 53.9\n",
        "Decile  2 : 59.3\n",
        "Decile  3 : 53.1\n",
        "Decile  4 : 46.8\n",
        "Decile  5 : 46.8\n",
        "Decile  6 : 57.9\n",
        "Decile  7 : 54.8\n",
        "Decile  8 : 51.5\n",
        "Decile  9 : 45.4\n",
        "Decile  10 : 30.7\n"
       ]
      }
     ],
     "prompt_number": 15
    },
    {
     "cell_type": "markdown",
     "metadata": {},
     "source": [
      "Decile 2 gives you the best chance of outperforming; but remember, when you do outperforming in decile 1, you are likely to outperform better."
     ]
    },
    {
     "cell_type": "markdown",
     "metadata": {},
     "source": [
      "The threshold of the deciles are as follows:"
     ]
    },
    {
     "cell_type": "code",
     "collapsed": false,
     "input": [
      "grp10 = aug10.groupby('a')\n",
      "limits = pd.DataFrame()\n",
      "limits['min'] = grp10.min()['rs6ma']\n",
      "limits['max'] = grp10.max()['rs6ma']\n",
      "limits"
     ],
     "language": "python",
     "metadata": {},
     "outputs": [
      {
       "html": [
        "<div style=\"max-height:1000px;max-width:1500px;overflow:auto;\">\n",
        "<table border=\"1\" class=\"dataframe\">\n",
        "  <thead>\n",
        "    <tr style=\"text-align: right;\">\n",
        "      <th></th>\n",
        "      <th>min</th>\n",
        "      <th>max</th>\n",
        "    </tr>\n",
        "    <tr>\n",
        "      <th>a</th>\n",
        "      <th></th>\n",
        "      <th></th>\n",
        "    </tr>\n",
        "  </thead>\n",
        "  <tbody>\n",
        "    <tr>\n",
        "      <th>1 </th>\n",
        "      <td> 25.441413</td>\n",
        "      <td> 211.040905</td>\n",
        "    </tr>\n",
        "    <tr>\n",
        "      <th>2 </th>\n",
        "      <td> 14.703962</td>\n",
        "      <td>  25.132950</td>\n",
        "    </tr>\n",
        "    <tr>\n",
        "      <th>3 </th>\n",
        "      <td>  9.634187</td>\n",
        "      <td>  14.664012</td>\n",
        "    </tr>\n",
        "    <tr>\n",
        "      <th>4 </th>\n",
        "      <td>  5.873245</td>\n",
        "      <td>   9.609895</td>\n",
        "    </tr>\n",
        "    <tr>\n",
        "      <th>5 </th>\n",
        "      <td>  1.783061</td>\n",
        "      <td>   5.674244</td>\n",
        "    </tr>\n",
        "    <tr>\n",
        "      <th>6 </th>\n",
        "      <td> -1.172116</td>\n",
        "      <td>   1.756429</td>\n",
        "    </tr>\n",
        "    <tr>\n",
        "      <th>7 </th>\n",
        "      <td> -4.344779</td>\n",
        "      <td>  -1.172529</td>\n",
        "    </tr>\n",
        "    <tr>\n",
        "      <th>8 </th>\n",
        "      <td> -8.958437</td>\n",
        "      <td>  -4.370502</td>\n",
        "    </tr>\n",
        "    <tr>\n",
        "      <th>9 </th>\n",
        "      <td>-15.603024</td>\n",
        "      <td>  -9.009376</td>\n",
        "    </tr>\n",
        "    <tr>\n",
        "      <th>10</th>\n",
        "      <td>-60.836411</td>\n",
        "      <td> -15.604508</td>\n",
        "    </tr>\n",
        "  </tbody>\n",
        "</table>\n",
        "</div>"
       ],
       "metadata": {},
       "output_type": "pyout",
       "prompt_number": 17,
       "text": [
        "          min         max\n",
        "a                        \n",
        "1   25.441413  211.040905\n",
        "2   14.703962   25.132950\n",
        "3    9.634187   14.664012\n",
        "4    5.873245    9.609895\n",
        "5    1.783061    5.674244\n",
        "6   -1.172116    1.756429\n",
        "7   -4.344779   -1.172529\n",
        "8   -8.958437   -4.370502\n",
        "9  -15.603024   -9.009376\n",
        "10 -60.836411  -15.604508"
       ]
      }
     ],
     "prompt_number": 17
    },
    {
     "cell_type": "markdown",
     "metadata": {},
     "source": [
      "We can also see the shares that performed the best over th two 6-month periods:"
     ]
    },
    {
     "cell_type": "code",
     "collapsed": false,
     "input": [
      "aug10[(aug10['a'] == 1) & (aug10['b'] == 1)]"
     ],
     "language": "python",
     "metadata": {},
     "outputs": [
      {
       "html": [
        "<div style=\"max-height:1000px;max-width:1500px;overflow:auto;\">\n",
        "<table border=\"1\" class=\"dataframe\">\n",
        "  <thead>\n",
        "    <tr style=\"text-align: right;\">\n",
        "      <th></th>\n",
        "      <th>epic</th>\n",
        "      <th>mkt</th>\n",
        "      <th>rs1y</th>\n",
        "      <th>rs5y</th>\n",
        "      <th>rs6ma</th>\n",
        "      <th>rs6mb</th>\n",
        "      <th>a</th>\n",
        "      <th>b</th>\n",
        "    </tr>\n",
        "  </thead>\n",
        "  <tbody>\n",
        "    <tr>\n",
        "      <th>19 </th>\n",
        "      <td>  AHT</td>\n",
        "      <td> 5289.43</td>\n",
        "      <td>  57.73</td>\n",
        "      <td> 1154.87</td>\n",
        "      <td>  28.277489</td>\n",
        "      <td>  22.96</td>\n",
        "      <td> 1</td>\n",
        "      <td> 1</td>\n",
        "    </tr>\n",
        "    <tr>\n",
        "      <th>216</th>\n",
        "      <td> FLOW</td>\n",
        "      <td>  113.75</td>\n",
        "      <td> 171.52</td>\n",
        "      <td>  -21.12</td>\n",
        "      <td>  70.445700</td>\n",
        "      <td>  59.30</td>\n",
        "      <td> 1</td>\n",
        "      <td> 1</td>\n",
        "    </tr>\n",
        "    <tr>\n",
        "      <th>255</th>\n",
        "      <td>  GOG</td>\n",
        "      <td> 1117.35</td>\n",
        "      <td>  59.29</td>\n",
        "      <td>   57.76</td>\n",
        "      <td>  27.892413</td>\n",
        "      <td>  24.55</td>\n",
        "      <td> 1</td>\n",
        "      <td> 1</td>\n",
        "    </tr>\n",
        "    <tr>\n",
        "      <th>263</th>\n",
        "      <td>  GWP</td>\n",
        "      <td> 1012.90</td>\n",
        "      <td> 143.12</td>\n",
        "      <td>  271.81</td>\n",
        "      <td>  86.427421</td>\n",
        "      <td>  30.41</td>\n",
        "      <td> 1</td>\n",
        "      <td> 1</td>\n",
        "    </tr>\n",
        "    <tr>\n",
        "      <th>265</th>\n",
        "      <td>  HCM</td>\n",
        "      <td>  776.42</td>\n",
        "      <td> 140.57</td>\n",
        "      <td>  460.04</td>\n",
        "      <td>  36.967661</td>\n",
        "      <td>  75.64</td>\n",
        "      <td> 1</td>\n",
        "      <td> 1</td>\n",
        "    </tr>\n",
        "    <tr>\n",
        "      <th>355</th>\n",
        "      <td>  LGO</td>\n",
        "      <td>  109.48</td>\n",
        "      <td> 377.18</td>\n",
        "      <td>  -14.34</td>\n",
        "      <td>  36.782664</td>\n",
        "      <td> 248.86</td>\n",
        "      <td> 1</td>\n",
        "      <td> 1</td>\n",
        "    </tr>\n",
        "    <tr>\n",
        "      <th>380</th>\n",
        "      <td>  MEC</td>\n",
        "      <td>  166.07</td>\n",
        "      <td>  90.16</td>\n",
        "      <td>  -10.69</td>\n",
        "      <td>  46.412073</td>\n",
        "      <td>  29.88</td>\n",
        "      <td> 1</td>\n",
        "      <td> 1</td>\n",
        "    </tr>\n",
        "    <tr>\n",
        "      <th>446</th>\n",
        "      <td>  PDL</td>\n",
        "      <td> 1056.34</td>\n",
        "      <td>  89.99</td>\n",
        "      <td>  156.93</td>\n",
        "      <td>  40.120953</td>\n",
        "      <td>  35.59</td>\n",
        "      <td> 1</td>\n",
        "      <td> 1</td>\n",
        "    </tr>\n",
        "    <tr>\n",
        "      <th>469</th>\n",
        "      <td> POWR</td>\n",
        "      <td>  150.58</td>\n",
        "      <td>  84.96</td>\n",
        "      <td>   39.65</td>\n",
        "      <td>  35.760423</td>\n",
        "      <td>  36.24</td>\n",
        "      <td> 1</td>\n",
        "      <td> 1</td>\n",
        "    </tr>\n",
        "    <tr>\n",
        "      <th>513</th>\n",
        "      <td> RNWH</td>\n",
        "      <td>  179.88</td>\n",
        "      <td>  87.41</td>\n",
        "      <td>  539.83</td>\n",
        "      <td>  50.614804</td>\n",
        "      <td>  24.43</td>\n",
        "      <td> 1</td>\n",
        "      <td> 1</td>\n",
        "    </tr>\n",
        "    <tr>\n",
        "      <th>528</th>\n",
        "      <td>  RXP</td>\n",
        "      <td>  116.75</td>\n",
        "      <td> 286.48</td>\n",
        "      <td>   20.44</td>\n",
        "      <td>  33.554496</td>\n",
        "      <td> 189.38</td>\n",
        "      <td> 1</td>\n",
        "      <td> 1</td>\n",
        "    </tr>\n",
        "    <tr>\n",
        "      <th>534</th>\n",
        "      <td>  SBD</td>\n",
        "      <td> 2487.65</td>\n",
        "      <td> 117.86</td>\n",
        "      <td>   70.58</td>\n",
        "      <td>  66.254579</td>\n",
        "      <td>  31.04</td>\n",
        "      <td> 1</td>\n",
        "      <td> 1</td>\n",
        "    </tr>\n",
        "    <tr>\n",
        "      <th>557</th>\n",
        "      <td>  SIG</td>\n",
        "      <td> 6622.91</td>\n",
        "      <td>  72.71</td>\n",
        "      <td>  316.57</td>\n",
        "      <td>  27.942811</td>\n",
        "      <td>  34.99</td>\n",
        "      <td> 1</td>\n",
        "      <td> 1</td>\n",
        "    </tr>\n",
        "    <tr>\n",
        "      <th>561</th>\n",
        "      <td>  SKP</td>\n",
        "      <td>  353.22</td>\n",
        "      <td> 185.27</td>\n",
        "      <td>  181.26</td>\n",
        "      <td> 109.695678</td>\n",
        "      <td>  36.04</td>\n",
        "      <td> 1</td>\n",
        "      <td> 1</td>\n",
        "    </tr>\n",
        "    <tr>\n",
        "      <th>579</th>\n",
        "      <td> SPRP</td>\n",
        "      <td>  153.57</td>\n",
        "      <td> 168.55</td>\n",
        "      <td>  954.92</td>\n",
        "      <td>  91.766638</td>\n",
        "      <td>  40.04</td>\n",
        "      <td> 1</td>\n",
        "      <td> 1</td>\n",
        "    </tr>\n",
        "    <tr>\n",
        "      <th>624</th>\n",
        "      <td> TRCS</td>\n",
        "      <td>  106.49</td>\n",
        "      <td>  98.19</td>\n",
        "      <td>  512.59</td>\n",
        "      <td>  46.017830</td>\n",
        "      <td>  35.73</td>\n",
        "      <td> 1</td>\n",
        "      <td> 1</td>\n",
        "    </tr>\n",
        "  </tbody>\n",
        "</table>\n",
        "</div>"
       ],
       "metadata": {},
       "output_type": "pyout",
       "prompt_number": 18,
       "text": [
        "     epic      mkt    rs1y     rs5y       rs6ma   rs6mb  a  b\n",
        "19    AHT  5289.43   57.73  1154.87   28.277489   22.96  1  1\n",
        "216  FLOW   113.75  171.52   -21.12   70.445700   59.30  1  1\n",
        "255   GOG  1117.35   59.29    57.76   27.892413   24.55  1  1\n",
        "263   GWP  1012.90  143.12   271.81   86.427421   30.41  1  1\n",
        "265   HCM   776.42  140.57   460.04   36.967661   75.64  1  1\n",
        "355   LGO   109.48  377.18   -14.34   36.782664  248.86  1  1\n",
        "380   MEC   166.07   90.16   -10.69   46.412073   29.88  1  1\n",
        "446   PDL  1056.34   89.99   156.93   40.120953   35.59  1  1\n",
        "469  POWR   150.58   84.96    39.65   35.760423   36.24  1  1\n",
        "513  RNWH   179.88   87.41   539.83   50.614804   24.43  1  1\n",
        "528   RXP   116.75  286.48    20.44   33.554496  189.38  1  1\n",
        "534   SBD  2487.65  117.86    70.58   66.254579   31.04  1  1\n",
        "557   SIG  6622.91   72.71   316.57   27.942811   34.99  1  1\n",
        "561   SKP   353.22  185.27   181.26  109.695678   36.04  1  1\n",
        "579  SPRP   153.57  168.55   954.92   91.766638   40.04  1  1\n",
        "624  TRCS   106.49   98.19   512.59   46.017830   35.73  1  1"
       ]
      }
     ],
     "prompt_number": 18
    },
    {
     "cell_type": "heading",
     "level": 2,
     "metadata": {},
     "source": [
      "Questions for follow-up"
     ]
    },
    {
     "cell_type": "markdown",
     "metadata": {},
     "source": [
      "It will be interesting to try to investigate the following questions:\n",
      "* What is the expected return on investing in each decile?\n",
      "* How does it vary over time?\n",
      "* How does short-term momentum correlate with the 5 year relative strength? If you think that that there is mean-reversion in momentum over the long term, could it be that you can improve your returns in the top short-run decile by looking for stocks that had also performed poorly over 5 years?\n",
      "* If I picked on one company, and looked at returns over 6, 12, 18, 24, ... returns, is there any insights that could be obtained? For example, could combining high relative 6 AND 12 month returns improve one's odds?\n"
     ]
    },
    {
     "cell_type": "heading",
     "level": 2,
     "metadata": {},
     "source": [
      "About this document"
     ]
    },
    {
     "cell_type": "markdown",
     "metadata": {},
     "source": [
      "`\n",
      "Created: 26-Nov-2014\n",
      "Updated: 05-Dec-2014\n",
      "`"
     ]
    }
   ],
   "metadata": {}
  }
 ]
}