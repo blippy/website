{
 "cells": [
  {
   "cell_type": "markdown",
   "metadata": {},
   "source": [
    "# Momentum experiment 26-Nov-2014 (a)\n",
    "\n",
    "This workbbok is a follow-up to http://pdf.markcarter.me.uk/momo2014-11-26.html. The data is the same, but we try to answer this question: **what is the expected return on investing in each decile?**"
   ]
  },
  {
   "cell_type": "code",
   "execution_count": 1,
   "metadata": {
    "collapsed": true
   },
   "outputs": [],
   "source": [
    "%matplotlib inline\n",
    "import matplotlib.mlab as mlab\n",
    "import matplotlib.pyplot as plt\n",
    "import pylab\n",
    "import numpy as np\n",
    "import pandas as pd"
   ]
  },
  {
   "cell_type": "markdown",
   "metadata": {},
   "source": [
    "Load the data, which was obtained on 26-Nov-2014, or thereabouts:"
   ]
  },
  {
   "cell_type": "code",
   "execution_count": 2,
   "metadata": {
    "collapsed": true
   },
   "outputs": [],
   "source": [
    "df = pd.io.parsers.read_csv(\"http://pastebin.com/raw.php?i=JWBf8LzF\")"
   ]
  },
  {
   "cell_type": "markdown",
   "metadata": {},
   "source": [
    "Calculate the relative momentum for the the first sixth months:"
   ]
  },
  {
   "cell_type": "code",
   "execution_count": 3,
   "metadata": {
    "collapsed": false
   },
   "outputs": [
    {
     "data": {
      "text/html": [
       "<div>\n",
       "<table border=\"1\" class=\"dataframe\">\n",
       "  <thead>\n",
       "    <tr style=\"text-align: right;\">\n",
       "      <th></th>\n",
       "      <th>epic</th>\n",
       "      <th>mkt</th>\n",
       "      <th>rs6mb</th>\n",
       "      <th>rs1y</th>\n",
       "      <th>rs5y</th>\n",
       "      <th>rs6ma</th>\n",
       "    </tr>\n",
       "  </thead>\n",
       "  <tbody>\n",
       "    <tr>\n",
       "      <th>0</th>\n",
       "      <td>3IN</td>\n",
       "      <td>1322.84</td>\n",
       "      <td>10.00</td>\n",
       "      <td>14.31</td>\n",
       "      <td>17.29</td>\n",
       "      <td>3.918182</td>\n",
       "    </tr>\n",
       "    <tr>\n",
       "      <th>1</th>\n",
       "      <td>888</td>\n",
       "      <td>484.86</td>\n",
       "      <td>9.01</td>\n",
       "      <td>-15.17</td>\n",
       "      <td>0.03</td>\n",
       "      <td>-22.181451</td>\n",
       "    </tr>\n",
       "    <tr>\n",
       "      <th>2</th>\n",
       "      <td>AA.</td>\n",
       "      <td>1941.45</td>\n",
       "      <td>NaN</td>\n",
       "      <td>NaN</td>\n",
       "      <td>NaN</td>\n",
       "      <td>NaN</td>\n",
       "    </tr>\n",
       "    <tr>\n",
       "      <th>3</th>\n",
       "      <td>AAL</td>\n",
       "      <td>18564.58</td>\n",
       "      <td>-14.44</td>\n",
       "      <td>-3.60</td>\n",
       "      <td>-60.58</td>\n",
       "      <td>12.669472</td>\n",
       "    </tr>\n",
       "    <tr>\n",
       "      <th>4</th>\n",
       "      <td>ABBY</td>\n",
       "      <td>185.13</td>\n",
       "      <td>-1.87</td>\n",
       "      <td>0.73</td>\n",
       "      <td>67.17</td>\n",
       "      <td>2.649547</td>\n",
       "    </tr>\n",
       "  </tbody>\n",
       "</table>\n",
       "</div>"
      ],
      "text/plain": [
       "   epic       mkt  rs6mb   rs1y   rs5y      rs6ma\n",
       "0   3IN   1322.84  10.00  14.31  17.29   3.918182\n",
       "1   888    484.86   9.01 -15.17   0.03 -22.181451\n",
       "2   AA.   1941.45    NaN    NaN    NaN        NaN\n",
       "3   AAL  18564.58 -14.44  -3.60 -60.58  12.669472\n",
       "4  ABBY    185.13  -1.87   0.73  67.17   2.649547"
      ]
     },
     "execution_count": 3,
     "metadata": {},
     "output_type": "execute_result"
    }
   ],
   "source": [
    "df['rs6ma'] = (df.rs1y/100.0 + 1.0)/(df.rs6mb/100.0 + 1.0)*100.0 - 100.0\n",
    "df.head()"
   ]
  },
  {
   "cell_type": "markdown",
   "metadata": {},
   "source": [
    "Create a function which, given a dataframe `df`, and the number of buckets `n` (e.g. `n=10` for deciles), returns another dataframe of the means of those buckets. This is the expected return on each quantile:"
   ]
  },
  {
   "cell_type": "code",
   "execution_count": 4,
   "metadata": {
    "collapsed": false
   },
   "outputs": [],
   "source": [
    "def agg(df, n):\n",
    "    df['tile'] = pd.qcut(df['rs6ma'], n, labels = range(n))\n",
    "    res = df.groupby('tile')['rs6mb'].mean()\n",
    "    return res"
   ]
  },
  {
   "cell_type": "markdown",
   "metadata": {},
   "source": [
    "Let's explore the expected returns when we split the data into a variety of n-tiles:"
   ]
  },
  {
   "cell_type": "code",
   "execution_count": 14,
   "metadata": {
    "collapsed": false
   },
   "outputs": [
    {
     "name": "stdout",
     "output_type": "stream",
     "text": [
      "tile\n",
      "0   -1.927321\n",
      "1    1.822181\n",
      "Name: rs6mb, dtype: float64\n",
      "\n",
      "tile\n",
      "0   -3.821262\n",
      "1   -0.215187\n",
      "2    3.878738\n",
      "Name: rs6mb, dtype: float64\n",
      "\n",
      "tile\n",
      "0   -4.854534\n",
      "1    1.018187\n",
      "2   -0.932250\n",
      "3    4.559503\n",
      "Name: rs6mb, dtype: float64\n",
      "\n",
      "tile\n",
      "0   -5.974574\n",
      "1    0.638828\n",
      "2   -1.016953\n",
      "3    0.137656\n",
      "4    5.951550\n",
      "Name: rs6mb, dtype: float64\n",
      "\n",
      "tile\n",
      "0    -8.968615\n",
      "1    -2.933750\n",
      "2    -0.834063\n",
      "3     2.111719\n",
      "4     1.098125\n",
      "5    -3.132031\n",
      "6    -0.999375\n",
      "7     1.274688\n",
      "8     1.648125\n",
      "9    10.188769\n",
      "Name: rs6mb, dtype: float64\n",
      "\n",
      "tile\n",
      "0    -16.913939\n",
      "1     -0.775000\n",
      "2      0.921875\n",
      "3     -6.789375\n",
      "4     -0.339375\n",
      "5     -1.328750\n",
      "6     -0.773438\n",
      "7      4.996875\n",
      "8      3.688125\n",
      "9     -1.491875\n",
      "10    -3.897500\n",
      "11    -2.366563\n",
      "12    -3.061250\n",
      "13     1.062500\n",
      "14     3.601563\n",
      "15    -1.052188\n",
      "16     5.445000\n",
      "17    -2.148750\n",
      "18    17.644375\n",
      "19     2.959091\n",
      "Name: rs6mb, dtype: float64\n",
      "\n"
     ]
    }
   ],
   "source": [
    "for i in [2,3, 4, 5, 10, 20]:\n",
    "    print(agg(df,i))\n",
    "    print()"
   ]
  },
  {
   "cell_type": "markdown",
   "metadata": {},
   "source": [
    "## Conclusion\n",
    "\n",
    "As you can see, if you split the data into two, you obtain a slight outperformance if you invest in the highest previous performers: 1.8% as opposed to -1.9% over the next six months.\n",
    "\n",
    "As the number of quantiles increases, it becomes apparent that the best and worst performers lead to the best and worst subsequent performances. The intermediate groups are mixed, and do not show much of a pattern."
   ]
  },
  {
   "cell_type": "markdown",
   "metadata": {
    "collapsed": true
   },
   "source": [
    "## About this document\n",
    "\n",
    "    Author:  Mark Carter\n",
    "    Created: 25-Oct-2015"
   ]
  },
  {
   "cell_type": "code",
   "execution_count": null,
   "metadata": {
    "collapsed": true
   },
   "outputs": [],
   "source": []
  }
 ],
 "metadata": {
  "kernelspec": {
   "display_name": "Python 3",
   "language": "python",
   "name": "python3"
  },
  "language_info": {
   "codemirror_mode": {
    "name": "ipython",
    "version": 3
   },
   "file_extension": ".py",
   "mimetype": "text/x-python",
   "name": "python",
   "nbconvert_exporter": "python",
   "pygments_lexer": "ipython3",
   "version": "3.5.0"
  }
 },
 "nbformat": 4,
 "nbformat_minor": 0
}
